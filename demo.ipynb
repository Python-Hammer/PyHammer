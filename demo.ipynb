{
 "cells": [
  {
   "cell_type": "code",
   "execution_count": null,
   "id": "3f41580e",
   "metadata": {},
   "outputs": [
    {
     "name": "stdout",
     "output_type": "stream",
     "text": [
      "A special rule is a dictionary\n",
      "[{'condition': 'charged', 'id': 'add_damage', 'value': 1}, {'condition': 'charged', 'id': 'add_rend', 'value': 1}]\n",
      "1\n",
      "0\n"
     ]
    }
   ],
   "source": [
    "from data.loading import get_all_profiles\n",
    "\n",
    "all_units = get_all_profiles()\n",
    "\n",
    "unit = all_units[\"chaos_knights\"]\n",
    "weapon = unit.weapons[0]    \n",
    "\n",
    "print(\"A special rule is a dictionary\")\n",
    "print(weapon.special_rules)\n",
    "\n",
    "# Check if the value is affected by the combat context (because of a special rule)\n",
    "combat_context = {'charged':True}\n",
    "modifier = weapon._find_modifier_total_value(value_name='rend',combat_context=combat_context)\n",
    "print(modifier)\n",
    "\n",
    "modifier = weapon._find_modifier_total_value(value_name='attacks',combat_context=combat_context)\n",
    "print(modifier)"
   ]
  },
  {
   "cell_type": "code",
   "execution_count": 27,
   "id": "51e13fa4",
   "metadata": {},
   "outputs": [
    {
     "name": "stdout",
     "output_type": "stream",
     "text": [
      "1\n",
      "1\n"
     ]
    }
   ],
   "source": [
    "from data.loading import get_all_profiles\n",
    "all_units = get_all_profiles()\n",
    "\n",
    "n_samples = 10000\n",
    "attack_unit = all_units[\"dps_unit\"]\n",
    "defense_unit = all_units[\"tank_unit\"]\n",
    "combat_context = {}\n",
    "\n",
    "damage = attack_unit.attack_with_all_weapons(combat_context=combat_context, enemy_save=1)\n",
    "print(damage)\n",
    "defense_unit.receive_damage(damage)\n",
    "print(defense_unit.wounds_taken)"
   ]
  },
  {
   "cell_type": "code",
   "execution_count": null,
   "id": "42c1c614",
   "metadata": {},
   "outputs": [],
   "source": [
    "damage = 0\n",
    "for _ in range(n_samples):\n",
    "    damage += attack_unit.attack_with_all_weapons(combat_context=combat_context, enemy_save=1, verbose=False)\n",
    "damage /= n_samples\n",
    "print(damage)"
   ]
  }
 ],
 "metadata": {
  "kernelspec": {
   "display_name": "base",
   "language": "python",
   "name": "python3"
  },
  "language_info": {
   "codemirror_mode": {
    "name": "ipython",
    "version": 3
   },
   "file_extension": ".py",
   "mimetype": "text/x-python",
   "name": "python",
   "nbconvert_exporter": "python",
   "pygments_lexer": "ipython3",
   "version": "3.12.7"
  }
 },
 "nbformat": 4,
 "nbformat_minor": 5
}
