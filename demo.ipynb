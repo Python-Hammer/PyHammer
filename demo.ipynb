{
 "cells": [
  {
   "cell_type": "code",
   "execution_count": null,
   "id": "3f41580e",
   "metadata": {},
   "outputs": [
    {
     "name": "stdout",
     "output_type": "stream",
     "text": [
      "All units:\n",
      "['alarith_stoneguard', 'vanari_bladelords', 'chaos_knights', 'varanguard']\n"
     ]
    }
   ],
   "source": [
    "from data.loading import get_all_units\n",
    "from models.profile import Profile\n",
    "\n",
    "all_units_data = get_all_units()\n",
    "all_units = Profile(unit_data)\n",
    "print(\"All units:\")\n",
    "print(list(all_units.keys()))"
   ]
  },
  {
   "cell_type": "code",
   "execution_count": null,
   "id": "51e13fa4",
   "metadata": {},
   "outputs": [
    {
     "ename": "AttributeError",
     "evalue": "'dict' object has no attribute 'weapons'",
     "output_type": "error",
     "traceback": [
      "\u001b[1;31m---------------------------------------------------------------------------\u001b[0m",
      "\u001b[1;31mAttributeError\u001b[0m                            Traceback (most recent call last)",
      "Cell \u001b[1;32mIn[11], line 2\u001b[0m\n\u001b[0;32m      1\u001b[0m unit \u001b[38;5;241m=\u001b[39m all_units[\u001b[38;5;124m\"\u001b[39m\u001b[38;5;124mchaos_knights\u001b[39m\u001b[38;5;124m\"\u001b[39m]\n\u001b[1;32m----> 2\u001b[0m \u001b[38;5;28mprint\u001b[39m(unit\u001b[38;5;241m.\u001b[39mweapons)\n",
      "\u001b[1;31mAttributeError\u001b[0m: 'dict' object has no attribute 'weapons'"
     ]
    }
   ],
   "source": [
    "\n",
    "\n",
    "unit = all_units[\"chaos_knights\"]\n",
    "print(unit.weapons)"
   ]
  },
  {
   "cell_type": "code",
   "execution_count": null,
   "id": "8205f796",
   "metadata": {},
   "outputs": [],
   "source": []
  }
 ],
 "metadata": {
  "kernelspec": {
   "display_name": "base",
   "language": "python",
   "name": "python3"
  },
  "language_info": {
   "codemirror_mode": {
    "name": "ipython",
    "version": 3
   },
   "file_extension": ".py",
   "mimetype": "text/x-python",
   "name": "python",
   "nbconvert_exporter": "python",
   "pygments_lexer": "ipython3",
   "version": "3.12.7"
  }
 },
 "nbformat": 4,
 "nbformat_minor": 5
}
